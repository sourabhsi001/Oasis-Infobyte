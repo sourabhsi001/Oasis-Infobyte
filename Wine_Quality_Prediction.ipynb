{
 "cells": [
  {
   "cell_type": "markdown",
   "id": "82452d80",
   "metadata": {},
   "source": [
    "# Wine Quality Prediction\n",
    "\n",
    "**Objective:** Build a binary classifier to predict wine quality (Good vs Bad) using chemical properties. This notebook includes EDA, preprocessing, model training, evaluation, and feature importance.\n",
    "\n",
    "**Dataset:** `WineQT.csv` (make sure this file is in the same directory as the notebook)."
   ]
  },
  {
   "cell_type": "markdown",
   "id": "5fcdd0c9",
   "metadata": {},
   "source": [
    "## 1. Import libraries"
   ]
  },
  {
   "cell_type": "code",
   "execution_count": null,
   "id": "f9b21375",
   "metadata": {},
   "outputs": [],
   "source": [
    "import pandas as pd\n",
    "import numpy as np\n",
    "import matplotlib.pyplot as plt\n",
    "import seaborn as sns\n",
    "\n",
    "from sklearn.model_selection import train_test_split\n",
    "from sklearn.ensemble import RandomForestClassifier\n",
    "from sklearn.metrics import classification_report, confusion_matrix, accuracy_score\n",
    "\n",
    "sns.set(style='whitegrid')\n",
    "%matplotlib inline"
   ]
  },
  {
   "cell_type": "markdown",
   "id": "1cd5370a",
   "metadata": {},
   "source": [
    "## 2. Load data"
   ]
  },
  {
   "cell_type": "code",
   "execution_count": null,
   "id": "da3f7825",
   "metadata": {},
   "outputs": [],
   "source": [
    "df = pd.read_csv('WineQT.csv')\n",
    "print('Shape:', df.shape)\n",
    "df.head()"
   ]
  },
  {
   "cell_type": "markdown",
   "id": "3450b14b",
   "metadata": {},
   "source": [
    "## 3. Basic info, nulls and data types"
   ]
  },
  {
   "cell_type": "code",
   "execution_count": null,
   "id": "1c72f7a5",
   "metadata": {},
   "outputs": [],
   "source": [
    "print(df.info())\n",
    "print('\\nMissing values:')\n",
    "print(df.isnull().sum())\n",
    "\n",
    "# Basic statistics\n",
    "print('\\nDescribe:')\n",
    "print(df.describe())"
   ]
  },
  {
   "cell_type": "markdown",
   "id": "8f82797d",
   "metadata": {},
   "source": [
    "## 4. Drop unnecessary columns"
   ]
  },
  {
   "cell_type": "code",
   "execution_count": null,
   "id": "4f6da9b1",
   "metadata": {},
   "outputs": [],
   "source": [
    "if 'Id' in df.columns:\n",
    "    df = df.drop('Id', axis=1)\n",
    "\n",
    "print('Shape after dropping Id (if present):', df.shape)"
   ]
  },
  {
   "cell_type": "markdown",
   "id": "158dd512",
   "metadata": {},
   "source": [
    "## 5. Exploratory Data Analysis (basic)\n",
    "- Distribution of quality\n",
    "- Correlation heatmap"
   ]
  },
  {
   "cell_type": "code",
   "execution_count": null,
   "id": "71abf481",
   "metadata": {},
   "outputs": [],
   "source": [
    "plt.figure(figsize=(8,4))\n",
    "sns.countplot(x='quality', data=df, palette='viridis')\n",
    "plt.title('Wine Quality Distribution')\n",
    "plt.show()\n",
    "\n",
    "plt.figure(figsize=(12,8))\n",
    "cm = df.corr()\n",
    "sns.heatmap(cm, annot=True, cmap='coolwarm', fmt='.2f')\n",
    "plt.title('Correlation Heatmap')\n",
    "plt.show()"
   ]
  },
  {
   "cell_type": "markdown",
   "id": "4ee46327",
   "metadata": {},
   "source": [
    "## 6. Prepare features and target\n",
    "Convert `quality` to binary: Good (1) if quality >= 7, else Bad (0)."
   ]
  },
  {
   "cell_type": "code",
   "execution_count": null,
   "id": "bd30b296",
   "metadata": {},
   "outputs": [],
   "source": [
    "X = df.drop('quality', axis=1)\n",
    "y = df['quality'].apply(lambda q: 1 if q >= 7 else 0)\n",
    "\n",
    "print('Feature shape:', X.shape)\n",
    "print('Target distribution:\\n', y.value_counts())"
   ]
  },
  {
   "cell_type": "markdown",
   "id": "d1a13fdb",
   "metadata": {},
   "source": [
    "## 7. Train-test split"
   ]
  },
  {
   "cell_type": "code",
   "execution_count": null,
   "id": "84851322",
   "metadata": {},
   "outputs": [],
   "source": [
    "X_train, X_test, y_train, y_test = train_test_split(\n",
    "    X, y, test_size=0.2, random_state=42, stratify=y)\n",
    "\n",
    "print('Train shape:', X_train.shape)\n",
    "print('Test shape:', X_test.shape)"
   ]
  },
  {
   "cell_type": "markdown",
   "id": "210ba416",
   "metadata": {},
   "source": [
    "## 8. Train Random Forest Classifier"
   ]
  },
  {
   "cell_type": "code",
   "execution_count": null,
   "id": "80046659",
   "metadata": {},
   "outputs": [],
   "source": [
    "model = RandomForestClassifier(n_estimators=200, random_state=42)\n",
    "model.fit(X_train, y_train)\n",
    "print('Training completed')"
   ]
  },
  {
   "cell_type": "markdown",
   "id": "52a2b4e2",
   "metadata": {},
   "source": [
    "## 9. Evaluate model"
   ]
  },
  {
   "cell_type": "code",
   "execution_count": null,
   "id": "3f460eea",
   "metadata": {},
   "outputs": [],
   "source": [
    "y_pred = model.predict(X_test)\n",
    "\n",
    "acc = accuracy_score(y_test, y_pred)\n",
    "print(f'Accuracy: {acc:.4f}\\n')\n",
    "print('Classification Report:')\n",
    "print(classification_report(y_test, y_pred))\n",
    "\n",
    "print('Confusion Matrix:')\n",
    "cm = confusion_matrix(y_test, y_pred)\n",
    "print(cm)"
   ]
  },
  {
   "cell_type": "markdown",
   "id": "4f96f528",
   "metadata": {},
   "source": [
    "## 10. Feature Importance"
   ]
  },
  {
   "cell_type": "code",
   "execution_count": null,
   "id": "2a218e0d",
   "metadata": {},
   "outputs": [],
   "source": [
    "feat_importances = pd.Series(model.feature_importances_, index=X.columns)\n",
    "feat_importances = feat_importances.sort_values(ascending=True)\n",
    "plt.figure(figsize=(8,6))\n",
    "feat_importances.plot(kind='barh')\n",
    "plt.title('Feature Importance')\n",
    "plt.show()\n",
    "\n",
    "print('\\nTop features:')\n",
    "print(feat_importances.tail(10)[::-1])"
   ]
  },
  {
   "cell_type": "markdown",
   "id": "1d85fdee",
   "metadata": {},
   "source": [
    "## 11. Save the trained model (optional)\n",
    "You can save the trained model for later use using `joblib` or `pickle`. Uncomment the following lines to save."
   ]
  },
  {
   "cell_type": "code",
   "execution_count": null,
   "id": "6bd82707",
   "metadata": {},
   "outputs": [],
   "source": [
    "# import joblib\n",
    "# joblib.dump(model, 'wine_quality_rf.pkl')\n",
    "# print('Model saved to wine_quality_rf.pkl')"
   ]
  },
  {
   "cell_type": "markdown",
   "id": "d75980a0",
   "metadata": {},
   "source": [
    "## Conclusion\n",
    "Summarize the findings, model performance, and possible next steps such as hyperparameter tuning, cross-validation, or using other classifiers (XGBoost, SVM)."
   ]
  }
 ],
 "metadata": {},
 "nbformat": 4,
 "nbformat_minor": 5
}
